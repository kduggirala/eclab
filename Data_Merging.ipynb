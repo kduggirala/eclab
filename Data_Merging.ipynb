{
 "cells": [
  {
   "cell_type": "code",
   "execution_count": 27,
   "metadata": {},
   "outputs": [
    {
     "name": "stdout",
     "output_type": "stream",
     "text": [
      "Index(['Name', 'Number Reviews', 'Avg Rating', 'Descriptors', 'Phone Number',\n",
      "       'Licenses', 'Address', 'Url'],\n",
      "      dtype='object')\n"
     ]
    }
   ],
   "source": [
    "import pandas as pd\n",
    "#CLEAN WEEDMAPS - REMOVE NA entries, drop URL column\n",
    "weedmaps = pd.read_csv(\"stores_data.csv\")\n",
    "print(weedmaps.columns)\n",
    "weedmaps_cleaned = weedmaps.replace(\"N/A\", pd.NA)\n",
    "columns_to_check = ['Name', 'Number Reviews', 'Avg Rating', 'Descriptors', 'Phone Number', 'Licenses', 'Address']\n",
    "weedmaps_cleaned = weedmaps_cleaned.dropna(subset=columns_to_check)\n",
    "weedmaps_cleaned = weedmaps_cleaned.drop(columns=['Url'])"
   ]
  },
  {
   "cell_type": "code",
   "execution_count": 28,
   "metadata": {},
   "outputs": [],
   "source": [
    "import pandas as pd \n",
    "#Clean LICENSURE - remove NA entries\n",
    "license = pd.read_csv(\"Dispensaries.csv\")\n",
    "license_cleaned = license.replace(\"N/A\", pd.NA)\n",
    "columns_to_check = ['State', 'License Number', 'License Type', 'Company Name', 'DBA',\n",
    "       'License Status', 'Address 1', 'Address 2', 'City', 'Zip Code',\n",
    "       'Issue Date', 'Effective Date', 'Expire Date', 'License Term',\n",
    "       'License Type 2', 'Owner/Contact', 'Structure', 'Email', 'Phone',\n",
    "       'Website', 'Unnamed: 20', 'Unnamed: 21', 'Unnamed: 22', 'Unnamed: 23',\n",
    "       'Unnamed: 24', 'Unnamed: 25', 'Unnamed: 26', 'Unnamed: 27',\n",
    "       'Unnamed: 28']\n",
    "license_cleaned = license_cleaned = license.dropna(subset=['License Number'])\n",
    "license_cleaned = license_cleaned = license.dropna(subset=['Address 1'])\n",
    "license_cleaned_drop = license_cleaned.drop(columns=['Structure', 'Owner/Contact', 'Address 2', 'Unnamed: 20', 'Unnamed: 21', 'Unnamed: 22', 'Unnamed: 23', 'Unnamed: 24', 'Unnamed: 25', 'Unnamed: 26', 'Unnamed: 27', 'Unnamed: 28'])"
   ]
  },
  {
   "cell_type": "code",
   "execution_count": 31,
   "metadata": {},
   "outputs": [
    {
     "name": "stdout",
     "output_type": "stream",
     "text": [
      "['AK' 'AZ' 'CA' 'CO' 'CT' 'IL' 'ME' 'MD' 'MI' 'MO' 'MT' 'NV' 'NY' 'OR'\n",
      " 'RI' 'VT' 'MA']\n"
     ]
    }
   ],
   "source": [
    "license = pd.read_csv(\"Dispensaries.csv\")\n",
    "unique_states = license['State'].unique()\n",
    "print(unique_states)"
   ]
  }
 ],
 "metadata": {
  "kernelspec": {
   "display_name": "Python 3",
   "language": "python",
   "name": "python3"
  },
  "language_info": {
   "codemirror_mode": {
    "name": "ipython",
    "version": 3
   },
   "file_extension": ".py",
   "mimetype": "text/x-python",
   "name": "python",
   "nbconvert_exporter": "python",
   "pygments_lexer": "ipython3",
   "version": "3.11.1"
  },
  "orig_nbformat": 4,
  "vscode": {
   "interpreter": {
    "hash": "aee8b7b246df8f9039afb4144a1f6fd8d2ca17a180786b69acc140d282b71a49"
   }
  }
 },
 "nbformat": 4,
 "nbformat_minor": 2
}
