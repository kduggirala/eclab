{
 "cells": [
  {
   "cell_type": "code",
   "execution_count": 1,
   "metadata": {},
   "outputs": [],
   "source": [
    "# WEEDMAPS DATA CLEANING: BUSINESS-LEVEL DATA\n",
    "# - create indicators for whether we have medical / recreational license info\n",
    "# - create indicators for descriptors (e.g. in-store purchases only, order online, medical and recreational etc)\n",
    "# - create variable for state that dispensary is located in\n",
    "# - split license variable into medical and recreational licenses (INCOMPLETE)\n",
    "\n",
    "\n",
    "# Imports\n",
    "import pandas as pd\n",
    "import os\n",
    "import re\n",
    "from pyzipcode import ZipCodeDatabase\n"
   ]
  },
  {
   "cell_type": "code",
   "execution_count": 2,
   "metadata": {},
   "outputs": [],
   "source": [
    "zcdb = ZipCodeDatabase()"
   ]
  },
  {
   "cell_type": "code",
   "execution_count": 3,
   "metadata": {},
   "outputs": [],
   "source": [
    "# Import business-level data\n",
    "df = pd.read_csv(\"../stores_data.csv\")"
   ]
  },
  {
   "cell_type": "markdown",
   "metadata": {},
   "source": [
    "Create indicators for medical / recreational license\n"
   ]
  },
  {
   "cell_type": "code",
   "execution_count": 4,
   "metadata": {},
   "outputs": [],
   "source": [
    "cats = [\"Medical\", \"Adult-Use\"]\n",
    "for cat in cats:\n",
    "    df[cat + \"_ID?\"] = df[\"Licenses\"].str.contains(cat, case = False).astype(float)"
   ]
  },
  {
   "cell_type": "markdown",
   "metadata": {},
   "source": [
    "Create indicator variables based on descriptors"
   ]
  },
  {
   "cell_type": "code",
   "execution_count": 5,
   "metadata": {},
   "outputs": [],
   "source": [
    "df2 = df.copy()\n",
    "df2[\"Descriptors\"] = df2.apply(lambda row : \"|\".join([x.strip() for x in row[\"Descriptors\"].split(\"|\")]),\n",
    "                             axis = 1)"
   ]
  },
  {
   "cell_type": "code",
   "execution_count": 6,
   "metadata": {},
   "outputs": [],
   "source": [
    "df_desc2 = df2.Descriptors.str.get_dummies()"
   ]
  },
  {
   "cell_type": "code",
   "execution_count": 7,
   "metadata": {},
   "outputs": [],
   "source": [
    "df3 = df2.join(df_desc2)"
   ]
  },
  {
   "cell_type": "markdown",
   "metadata": {},
   "source": [
    "Create state variable"
   ]
  },
  {
   "cell_type": "code",
   "execution_count": 8,
   "metadata": {},
   "outputs": [],
   "source": [
    "states =[\"Alabama\", \"Alaska\", \"Arizona\", \"Arkansas\", \"California\", \n",
    "             \"Colorado\", \"Connecticut\", \"Delaware\", \"Florida\", \"Georgia\", \n",
    "             \"Hawaii\", \"Idaho\", \"Illinois\", \"Indiana\", \"Iowa\", \n",
    "             \"Kansas\", \"Kentucky\", \"Louisiana\", \"Maine\", \"Maryland\", \n",
    "             \"Massachusetts\", \"Michigan\", \"Minnesota\", \"Mississippi\", \"Missouri\", \n",
    "             \"Montana\", \"Nebraska\", \"Nevada\", \"New Hampshire\", \"New Jersey\", \n",
    "             \"New Mexico\", \"New York\", \"North Carolina\", \"North Dakota\", \"Ohio\", \n",
    "             \"Oklahoma\", \"Oregon\", \"Pennsylvania\", \"Rhode Island\", \"South Carolina\", \n",
    "             \"South Dakota\", \"Tennessee\", \"Texas\", \"Utah\", \"Vermont\", \n",
    "             \"Virginia\", \"Washington\", \"West Virginia\", \"Wisconsin\", \"Wyoming\"]\n",
    "\n",
    "# function to check which state a dispensary is in\n",
    "def get_state(col_val):\n",
    "    col_val = col_val.split(\",\")[-1]\n",
    "    state_val = None\n",
    "    for state in states:\n",
    "        st = state.lower() + \" \"\n",
    "        if st in col_val.lower():\n",
    "            state_val = state\n",
    "            break\n",
    "    return state_val"
   ]
  },
  {
   "cell_type": "code",
   "execution_count": 9,
   "metadata": {},
   "outputs": [],
   "source": [
    "# applying function to dataframe\n",
    "df4 = df3.copy()\n",
    "df4[\"State\"] = df4.apply(lambda row : get_state(row[\"Address\"]),\n",
    "                             axis = 1)"
   ]
  },
  {
   "cell_type": "code",
   "execution_count": 10,
   "metadata": {},
   "outputs": [
    {
     "data": {
      "text/plain": [
       "5217"
      ]
     },
     "execution_count": 10,
     "metadata": {},
     "output_type": "execute_result"
    }
   ],
   "source": [
    "# businesses with 2 potential state names in their address (currently 167)\n",
    "dftest = df4[~df4.State.isna()]\n",
    "df_amb = dftest[dftest.State.map(len) > 1]\n",
    "len(df_amb)"
   ]
  },
  {
   "cell_type": "code",
   "execution_count": 11,
   "metadata": {},
   "outputs": [
    {
     "data": {
      "text/plain": [
       "1484"
      ]
     },
     "execution_count": 11,
     "metadata": {},
     "output_type": "execute_result"
    }
   ],
   "source": [
    "# businesses which are likely not based in any of the 50 US states (currently 1480)\n",
    "df_no_state = df4[df4[\"State\"].isna()]\n",
    "len(df_no_state)"
   ]
  },
  {
   "cell_type": "code",
   "execution_count": 12,
   "metadata": {},
   "outputs": [
    {
     "data": {
      "text/plain": [
       "'Dispensary | Order online | Recreational | Supports the Black community'"
      ]
     },
     "execution_count": 12,
     "metadata": {},
     "output_type": "execute_result"
    }
   ],
   "source": [
    "# testing\n",
    "test = df.Descriptors[0]\n",
    "test2 = df2.Descriptors[0]\n",
    "test2\n",
    "test"
   ]
  },
  {
   "cell_type": "code",
   "execution_count": 13,
   "metadata": {},
   "outputs": [
    {
     "data": {
      "text/plain": [
       "'436 N Clark Street, Chicago, Illinois 60654'"
      ]
     },
     "execution_count": 13,
     "metadata": {},
     "output_type": "execute_result"
    }
   ],
   "source": [
    "test = df.Address[0]\n",
    "test"
   ]
  },
  {
   "cell_type": "code",
   "execution_count": 14,
   "metadata": {},
   "outputs": [],
   "source": [
    "# CREATE INDICATORS BASED ON DESCRIPTORS\n",
    "# from sklearn.feature_extraction.text import CountVectorizer\n",
    "\n",
    "# cv = CountVectorizer()\n",
    "\n",
    "# df_desc = pd.DataFrame(cv.fit_transform(df.Descriptors.fillna('').str.replace(r\"\\|\", \" \")).A,\n",
    "#                        columns=cv.get_feature_names_out(),\n",
    "#                        index = df.index)"
   ]
  },
  {
   "cell_type": "code",
   "execution_count": 15,
   "metadata": {},
   "outputs": [],
   "source": [
    "df4['Medical Store?'] = df4[['Medical', 'Medical & Recreational', 'Medicinal & Recreational']].apply(lambda s : s > 0).any(axis = 1)\n",
    "df4['Recreational Store?'] = df4[['Recreational', 'Medical & Recreational', 'Medicinal & Recreational']].apply(lambda s : s > 0).any(axis = 1)\n",
    "df4 = df4.drop(['Medical', 'Recreational', 'Medical & Recreational', 'Medicinal & Recreational', 'Descriptors'], axis = 1).rename({\"Name\" : \"Store Name\"}, axis = 1)"
   ]
  },
  {
   "cell_type": "code",
   "execution_count": 18,
   "metadata": {},
   "outputs": [],
   "source": [
    "df4.drop(\"Url\", axis = 1).to_csv(\"../stores_data_clean.csv\")"
   ]
  },
  {
   "cell_type": "code",
   "execution_count": 19,
   "metadata": {},
   "outputs": [],
   "source": [
    "import pandas as pd\n",
    "products = pd.concat([pd.read_csv(f\"../products_data_cleaned/part_{i}.csv\") for i in range(1, 11)]).drop_duplicates().reset_index(drop = True)\n",
    "products = products.merge(df4, left_on='url', right_on = \"Url\", how = 'inner').query(\"State == State\").reset_index(drop = True)"
   ]
  },
  {
   "cell_type": "code",
   "execution_count": 23,
   "metadata": {},
   "outputs": [],
   "source": [
    "output_directory = 'products_data_final/'\n",
    "os.mkdir(output_directory)\n",
    "\n",
    "# Calculate the number of rows per part\n",
    "num_rows = len(products)\n",
    "rows_per_part = num_rows // 10\n",
    "\n",
    "# Split the CSV into 10 parts\n",
    "for i in range(10):\n",
    "    start_idx = i * rows_per_part\n",
    "    end_idx = start_idx + rows_per_part\n",
    "    if i == 9:\n",
    "        end_idx = num_rows\n",
    "    part_df = products.drop(\"Url\", axis = 1).iloc[start_idx:end_idx]\n",
    "    \n",
    "    # Save each part to a separate CSV file\n",
    "    output_file = os.path.join(output_directory, f'part_{i+1}.csv')\n",
    "    part_df.to_csv(output_file, index=False)"
   ]
  },
  {
   "cell_type": "code",
   "execution_count": 19,
   "metadata": {},
   "outputs": [],
   "source": [
    "#products[products['thc'].str.contains(\"mg\")]\n",
    "test = products.query(\"thc != 'None' & price != 'None' & weight != 'None'\")\n",
    "test = test[test['thc'].str.contains(\"%\")]\n",
    "test['thc'] = test['thc'].apply(lambda s : float(re.search(\"\\d*\\.?\\d+\", s).group()))\n",
    "test['weight'] = test['weight'].apply(lambda s : float(re.search(\"\\d*\\.?\\d+\", s).group()))\n",
    "test['thc'] = test['thc'] * test['weight'] / 100\n",
    "test['price'] = test['price'].apply(lambda s : float(s[1:]))"
   ]
  },
  {
   "cell_type": "code",
   "execution_count": 53,
   "metadata": {},
   "outputs": [
    {
     "data": {
      "text/html": [
       "<div>\n",
       "<style scoped>\n",
       "    .dataframe tbody tr th:only-of-type {\n",
       "        vertical-align: middle;\n",
       "    }\n",
       "\n",
       "    .dataframe tbody tr th {\n",
       "        vertical-align: top;\n",
       "    }\n",
       "\n",
       "    .dataframe thead th {\n",
       "        text-align: right;\n",
       "    }\n",
       "</style>\n",
       "<table border=\"1\" class=\"dataframe\">\n",
       "  <thead>\n",
       "    <tr style=\"text-align: right;\">\n",
       "      <th></th>\n",
       "      <th>legalization_date</th>\n",
       "      <th>licensed_sales_since_date</th>\n",
       "      <th>tax_rate</th>\n",
       "    </tr>\n",
       "    <tr>\n",
       "      <th>state</th>\n",
       "      <th></th>\n",
       "      <th></th>\n",
       "      <th></th>\n",
       "    </tr>\n",
       "  </thead>\n",
       "  <tbody>\n",
       "    <tr>\n",
       "      <th>Washington</th>\n",
       "      <td>2012-12-06</td>\n",
       "      <td>2014-07-08</td>\n",
       "      <td>37%</td>\n",
       "    </tr>\n",
       "    <tr>\n",
       "      <th>Colorado</th>\n",
       "      <td>2012-12-10</td>\n",
       "      <td>2014-01-01</td>\n",
       "      <td>15%</td>\n",
       "    </tr>\n",
       "    <tr>\n",
       "      <th>Alaska</th>\n",
       "      <td>2015-02-24</td>\n",
       "      <td>2016-10-29</td>\n",
       "      <td>$50/ounce</td>\n",
       "    </tr>\n",
       "    <tr>\n",
       "      <th>Oregon</th>\n",
       "      <td>2015-07-01</td>\n",
       "      <td>2015-10-01</td>\n",
       "      <td>17%</td>\n",
       "    </tr>\n",
       "    <tr>\n",
       "      <th>California</th>\n",
       "      <td>2016-11-09</td>\n",
       "      <td>2018-01-01</td>\n",
       "      <td>15%</td>\n",
       "    </tr>\n",
       "    <tr>\n",
       "      <th>Massachusetts</th>\n",
       "      <td>2016-12-15</td>\n",
       "      <td>2018-11-20</td>\n",
       "      <td>10.75%</td>\n",
       "    </tr>\n",
       "    <tr>\n",
       "      <th>Nevada</th>\n",
       "      <td>2017-01-01</td>\n",
       "      <td>2017-07-01</td>\n",
       "      <td>15%</td>\n",
       "    </tr>\n",
       "    <tr>\n",
       "      <th>Maine</th>\n",
       "      <td>2017-01-30</td>\n",
       "      <td>2020-10-09</td>\n",
       "      <td>10%</td>\n",
       "    </tr>\n",
       "    <tr>\n",
       "      <th>Vermont</th>\n",
       "      <td>2018-07-01</td>\n",
       "      <td>2022-10-01</td>\n",
       "      <td>14%</td>\n",
       "    </tr>\n",
       "    <tr>\n",
       "      <th>Michigan</th>\n",
       "      <td>2018-12-06</td>\n",
       "      <td>2019-12-01</td>\n",
       "      <td>10%</td>\n",
       "    </tr>\n",
       "    <tr>\n",
       "      <th>Illinois</th>\n",
       "      <td>2020-11-30</td>\n",
       "      <td>2021-01-22</td>\n",
       "      <td>7%(seller)|10%(retailer&lt;35%THC)|25%(retailer&gt;3...</td>\n",
       "    </tr>\n",
       "    <tr>\n",
       "      <th>Montana</th>\n",
       "      <td>2021-01-01</td>\n",
       "      <td>2022-01-01</td>\n",
       "      <td>20%</td>\n",
       "    </tr>\n",
       "    <tr>\n",
       "      <th>New Jersey</th>\n",
       "      <td>2021-02-22</td>\n",
       "      <td>2022-04-21</td>\n",
       "      <td>$60/oz(price&lt;200)|$40/oz(200&lt;price&lt;250)|$30/oz...</td>\n",
       "    </tr>\n",
       "    <tr>\n",
       "      <th>New York</th>\n",
       "      <td>2021-03-31</td>\n",
       "      <td>2022-12-29</td>\n",
       "      <td>13%</td>\n",
       "    </tr>\n",
       "    <tr>\n",
       "      <th>New Mexico</th>\n",
       "      <td>2021-06-29</td>\n",
       "      <td>2022-04-01</td>\n",
       "      <td>12%</td>\n",
       "    </tr>\n",
       "    <tr>\n",
       "      <th>Connecticut</th>\n",
       "      <td>2021-07-01</td>\n",
       "      <td>2023-01-10</td>\n",
       "      <td>$0.00625/mg(plant)|$0.0275/mg(edibles)|$0.09/m...</td>\n",
       "    </tr>\n",
       "    <tr>\n",
       "      <th>Rhode Island</th>\n",
       "      <td>2022-05-25</td>\n",
       "      <td>2022-12-01</td>\n",
       "      <td>10%</td>\n",
       "    </tr>\n",
       "    <tr>\n",
       "      <th>Missouri</th>\n",
       "      <td>2022-12-08</td>\n",
       "      <td>2023-02-03</td>\n",
       "      <td>6%</td>\n",
       "    </tr>\n",
       "    <tr>\n",
       "      <th>Maryland</th>\n",
       "      <td>2023-07-01</td>\n",
       "      <td>2023-07-01</td>\n",
       "      <td>NaN</td>\n",
       "    </tr>\n",
       "  </tbody>\n",
       "</table>\n",
       "</div>"
      ],
      "text/plain": [
       "              legalization_date licensed_sales_since_date  \\\n",
       "state                                                       \n",
       "Washington           2012-12-06                2014-07-08   \n",
       "Colorado             2012-12-10                2014-01-01   \n",
       "Alaska               2015-02-24                2016-10-29   \n",
       "Oregon               2015-07-01                2015-10-01   \n",
       "California           2016-11-09                2018-01-01   \n",
       "Massachusetts        2016-12-15                2018-11-20   \n",
       "Nevada               2017-01-01                2017-07-01   \n",
       "Maine                2017-01-30                2020-10-09   \n",
       "Vermont              2018-07-01                2022-10-01   \n",
       "Michigan             2018-12-06                2019-12-01   \n",
       "Illinois             2020-11-30                2021-01-22   \n",
       "Montana              2021-01-01                2022-01-01   \n",
       "New Jersey           2021-02-22                2022-04-21   \n",
       "New York             2021-03-31                2022-12-29   \n",
       "New Mexico           2021-06-29                2022-04-01   \n",
       "Connecticut          2021-07-01                2023-01-10   \n",
       "Rhode Island         2022-05-25                2022-12-01   \n",
       "Missouri             2022-12-08                2023-02-03   \n",
       "Maryland             2023-07-01                2023-07-01   \n",
       "\n",
       "                                                        tax_rate  \n",
       "state                                                             \n",
       "Washington                                                   37%  \n",
       "Colorado                                                     15%  \n",
       "Alaska                                                 $50/ounce  \n",
       "Oregon                                                       17%  \n",
       "California                                                   15%  \n",
       "Massachusetts                                             10.75%  \n",
       "Nevada                                                       15%  \n",
       "Maine                                                        10%  \n",
       "Vermont                                                      14%  \n",
       "Michigan                                                     10%  \n",
       "Illinois       7%(seller)|10%(retailer<35%THC)|25%(retailer>3...  \n",
       "Montana                                                      20%  \n",
       "New Jersey     $60/oz(price<200)|$40/oz(200<price<250)|$30/oz...  \n",
       "New York                                                     13%  \n",
       "New Mexico                                                   12%  \n",
       "Connecticut    $0.00625/mg(plant)|$0.0275/mg(edibles)|$0.09/m...  \n",
       "Rhode Island                                                 10%  \n",
       "Missouri                                                      6%  \n",
       "Maryland                                                     NaN  "
      ]
     },
     "execution_count": 53,
     "metadata": {},
     "output_type": "execute_result"
    }
   ],
   "source": [
    "legalization = pd.read_csv(\"../legalization_data.txt\").set_index(\"state\").drop(['DC', 'Virginia', 'Delaware', 'Minnesota', 'Ohio'])\n",
    "legalization.loc['Nevada', \"tax_rate\"] = \"15%\"\n",
    "legalization[\"legalization_date\"] = legalization['legalization_date'].astype('datetime64[m]')\n",
    "legalization[\"licensed_sales_since_date\"] = legalization['licensed_sales_since_date'].astype('datetime64[m]')\n",
    "#legalization['tax_rate'] = legalization['tax_rate'].apply(lambda s : float(s[:-1]))\n",
    "legalization"
   ]
  },
  {
   "cell_type": "code",
   "execution_count": 235,
   "metadata": {},
   "outputs": [
    {
     "name": "stdout",
     "output_type": "stream",
     "text": [
      "Linear Model: Slope : [0.02245506], Intercept : 9.093980437759559 R^2 : 0.6674123280969375\n"
     ]
    },
    {
     "data": {
      "image/png": "[encoded data removed]",
      "text/plain": [
       "<Figure size 432x288 with 1 Axes>"
      ]
     },
     "metadata": {
      "needs_background": "light"
     },
     "output_type": "display_data"
    }
   ],
   "source": [
    "import matplotlib.pyplot as plt\n",
    "import numpy as np\n",
    "from sklearn.linear_model import LinearRegression\n",
    "\n",
    "test2 = test.query(f\"category == 'FLOWER' & State == 'New Mexico' & thc < 15000\")\n",
    "data = test2[['thc', 'price']].to_numpy()\n",
    "data_x = data[:, 0]\n",
    "data_y = data[:, 1]\n",
    "model = LinearRegression().fit(data_x.reshape((-1, 1)), data_y)\n",
    "print(f\"Linear Model: Slope : {model.coef_}, Intercept : {model.intercept_} R^2 : {model.score(data_x.reshape((-1, 1)), data_y)}\")\n",
    "plt.scatter(data_x ,data_y)\n",
    "plt.plot(data_x, model.intercept_ + model.coef_ * data_x, 'r--')\n",
    "plt.show()"
   ]
  },
  {
   "cell_type": "code",
   "execution_count": 229,
   "metadata": {},
   "outputs": [],
   "source": [
    "results = []\n",
    "for state in legalization.index:\n",
    "    data = test.query(f\"category == 'FLOWER' & State == '{state}' & price < 500 & thc < 15000\")[['thc', 'price']].to_numpy()\n",
    "    data_x = data[:, 0]\n",
    "    data_y = data[:, 1]\n",
    "    model = LinearRegression().fit(data_x.reshape((-1, 1)), data_y)\n",
    "    results.append({\"Number of Data Points\" : data_x.shape[0], \"state\" : state, \"intercept\" : model.intercept_, \"slope\" : model.coef_[0], \"R^2\" : model.score(data_x.reshape((-1, 1)), data_y)})"
   ]
  },
  {
   "cell_type": "code",
   "execution_count": 230,
   "metadata": {},
   "outputs": [
    {
     "data": {
      "image/png": "[encoded data removed]",
      "text/plain": [
       "<Figure size 432x288 with 1 Axes>"
      ]
     },
     "metadata": {
      "needs_background": "light"
     },
     "output_type": "display_data"
    },
    {
     "name": "stdout",
     "output_type": "stream",
     "text": [
      "0.33422242279726666\n"
     ]
    }
   ],
   "source": [
    "results_df = pd.DataFrame(results).set_index(\"state\").join(legalization)\n",
    "results_df_tax = results_df.drop(['Alaska', 'Illinois', 'Connecticut', 'New Jersey', 'Maryland'])\n",
    "results_df_tax['tax_rate'] = results_df_tax['tax_rate'].apply(lambda s : float(s[:-1]))\n",
    "\n",
    "data_x = results_df['licensed_sales_since_date'].astype(\"int64\").to_numpy().reshape((-1, 1))\n",
    "model2 = LinearRegression().fit(data_x, results_df['R^2'])\n",
    "plt.scatter(results_df['licensed_sales_since_date'], results_df['R^2'])\n",
    "plt.plot(results_df['licensed_sales_since_date'], model2.predict(data_x), 'r')\n",
    "plt.show()\n",
    "print(model2.score(data_x, results_df['R^2']))"
   ]
  },
  {
   "cell_type": "code",
   "execution_count": 246,
   "metadata": {},
   "outputs": [
    {
     "data": {
      "image/png": "[encoded data removed]",
      "text/plain": [
       "<Figure size 432x288 with 1 Axes>"
      ]
     },
     "metadata": {
      "needs_background": "light"
     },
     "output_type": "display_data"
    },
    {
     "name": "stdout",
     "output_type": "stream",
     "text": [
      "0.014696384620309422\n"
     ]
    }
   ],
   "source": [
    "data_x = results_df_tax['slope'].astype(\"float64\").to_numpy().reshape((-1, 1))\n",
    "model2 = LinearRegression().fit(data_x, results_df_tax['tax_rate'])\n",
    "plt.scatter(data_x, results_df_tax['tax_rate'])\n",
    "plt.plot(data_x, model2.predict(data_x), 'r')\n",
    "plt.show()\n",
    "print(model2.score(data_x, results_df_tax['tax_rate']))"
   ]
  },
  {
   "cell_type": "code",
   "execution_count": 244,
   "metadata": {},
   "outputs": [
    {
     "data": {
      "text/html": [
       "<div>\n",
       "<style scoped>\n",
       "    .dataframe tbody tr th:only-of-type {\n",
       "        vertical-align: middle;\n",
       "    }\n",
       "\n",
       "    .dataframe tbody tr th {\n",
       "        vertical-align: top;\n",
       "    }\n",
       "\n",
       "    .dataframe thead th {\n",
       "        text-align: right;\n",
       "    }\n",
       "</style>\n",
       "<table border=\"1\" class=\"dataframe\">\n",
       "  <thead>\n",
       "    <tr style=\"text-align: right;\">\n",
       "      <th></th>\n",
       "      <th>category</th>\n",
       "      <th>name</th>\n",
       "      <th>thc</th>\n",
       "      <th>cbd</th>\n",
       "      <th>price</th>\n",
       "      <th>weight</th>\n",
       "      <th>url</th>\n",
       "      <th>Name</th>\n",
       "      <th>Number Reviews</th>\n",
       "      <th>Avg Rating</th>\n",
       "      <th>...</th>\n",
       "      <th>Adult-Use_ID?</th>\n",
       "      <th>Dispensary</th>\n",
       "      <th>In-store purchases only</th>\n",
       "      <th>Medical</th>\n",
       "      <th>Medical &amp; Recreational</th>\n",
       "      <th>Medicinal &amp; Recreational</th>\n",
       "      <th>Order online</th>\n",
       "      <th>Recreational</th>\n",
       "      <th>Supports the Black community</th>\n",
       "      <th>State</th>\n",
       "    </tr>\n",
       "  </thead>\n",
       "  <tbody>\n",
       "    <tr>\n",
       "      <th>825769</th>\n",
       "      <td>FLOWER</td>\n",
       "      <td>14g Wedding Pie</td>\n",
       "      <td>2646.0</td>\n",
       "      <td>0.1% CBD</td>\n",
       "      <td>120.0</td>\n",
       "      <td>14000.0</td>\n",
       "      <td>https://weedmaps.com/dispensaries/munchiez-can...</td>\n",
       "      <td>MUNCHIEZ CANNABIS</td>\n",
       "      <td>111 reviews</td>\n",
       "      <td>5.0</td>\n",
       "      <td>...</td>\n",
       "      <td>1.0</td>\n",
       "      <td>1</td>\n",
       "      <td>0</td>\n",
       "      <td>0</td>\n",
       "      <td>1</td>\n",
       "      <td>0</td>\n",
       "      <td>1</td>\n",
       "      <td>0</td>\n",
       "      <td>0</td>\n",
       "      <td>New Mexico</td>\n",
       "    </tr>\n",
       "  </tbody>\n",
       "</table>\n",
       "<p>1 rows × 26 columns</p>\n",
       "</div>"
      ],
      "text/plain": [
       "       category             name     thc       cbd  price   weight  \\\n",
       "825769   FLOWER  14g Wedding Pie  2646.0  0.1% CBD  120.0  14000.0   \n",
       "\n",
       "                                                      url                Name  \\\n",
       "825769  https://weedmaps.com/dispensaries/munchiez-can...  MUNCHIEZ CANNABIS    \n",
       "\n",
       "       Number Reviews  Avg Rating  ... Adult-Use_ID? Dispensary  \\\n",
       "825769    111 reviews         5.0  ...           1.0          1   \n",
       "\n",
       "       In-store purchases only Medical Medical & Recreational  \\\n",
       "825769                       0       0                      1   \n",
       "\n",
       "        Medicinal & Recreational  Order online  Recreational  \\\n",
       "825769                         0             1             0   \n",
       "\n",
       "        Supports the Black community       State  \n",
       "825769                             0  New Mexico  \n",
       "\n",
       "[1 rows x 26 columns]"
      ]
     },
     "execution_count": 244,
     "metadata": {},
     "output_type": "execute_result"
    },
    {
     "data": {
      "image/png": "[encoded data removed]",
      "text/plain": [
       "<Figure size 432x288 with 1 Axes>"
      ]
     },
     "metadata": {
      "needs_background": "light"
     },
     "output_type": "display_data"
    }
   ],
   "source": [
    "slice = 2500\n",
    "plt.hist(test2[(slice <= test2['thc']) & (test2['thc'] < slice + 200)]['price'])\n",
    "test2[(slice <= test2['thc']) & (test2['thc'] < slice + 200) & (test2['price'] > 100)]\n",
    "\n",
    "# # with new mexico:\n",
    "# slice = 2500\n",
    "# plt.hist(test2[(slice <= test2['thc']) & (test2['thc'] < slice + 200)]['price'])\n",
    "# test2[(slice <= test2['thc']) & (test2['thc'] < slice + 200) & (test2['price'] < 100)]"
   ]
  },
  {
   "cell_type": "code",
   "execution_count": 245,
   "metadata": {},
   "outputs": [
    {
     "name": "stdout",
     "output_type": "stream",
     "text": [
      "Linear Model: Slope : [0.02666448], Intercept : 32.14261097207495 R^2 : 0.6834872071439736\n"
     ]
    },
    {
     "data": {
      "image/png": "[encoded data removed]",
      "text/plain": [
       "<Figure size 432x288 with 1 Axes>"
      ]
     },
     "metadata": {
      "needs_background": "light"
     },
     "output_type": "display_data"
    }
   ],
   "source": [
    "test3 = test.query(f\"category == 'FLOWER' & State == 'Illinois' & thc < 15000\")[['name', 'thc', 'price']].groupby(\"name\").mean()\n",
    "data = test3.to_numpy()\n",
    "data_x = data[:, 0]\n",
    "data_y = data[:, 1]\n",
    "model = LinearRegression().fit(data_x.reshape((-1, 1)), data_y)\n",
    "print(f\"Linear Model: Slope : {model.coef_}, Intercept : {model.intercept_} R^2 : {model.score(data_x.reshape((-1, 1)), data_y)}\")\n",
    "plt.scatter(data_x ,data_y)\n",
    "plt.plot(data_x, model.intercept_ + model.coef_ * data_x, 'r--')\n",
    "plt.show()"
   ]
  },
  {
   "cell_type": "code",
   "execution_count": 195,
   "metadata": {},
   "outputs": [
    {
     "data": {
      "text/html": [
       "<div>\n",
       "<style scoped>\n",
       "    .dataframe tbody tr th:only-of-type {\n",
       "        vertical-align: middle;\n",
       "    }\n",
       "\n",
       "    .dataframe tbody tr th {\n",
       "        vertical-align: top;\n",
       "    }\n",
       "\n",
       "    .dataframe thead th {\n",
       "        text-align: right;\n",
       "    }\n",
       "</style>\n",
       "<table border=\"1\" class=\"dataframe\">\n",
       "  <thead>\n",
       "    <tr style=\"text-align: right;\">\n",
       "      <th></th>\n",
       "      <th>thc</th>\n",
       "      <th>price</th>\n",
       "    </tr>\n",
       "    <tr>\n",
       "      <th>name</th>\n",
       "      <th></th>\n",
       "      <th></th>\n",
       "    </tr>\n",
       "  </thead>\n",
       "  <tbody>\n",
       "    <tr>\n",
       "      <th>Cresco Face Mints Popcorn Flower</th>\n",
       "      <td>123.200000</td>\n",
       "      <td>153.333333</td>\n",
       "    </tr>\n",
       "    <tr>\n",
       "      <th>Cresco Girls best Friend Popcorn Flower</th>\n",
       "      <td>142.800000</td>\n",
       "      <td>270.000000</td>\n",
       "    </tr>\n",
       "    <tr>\n",
       "      <th>Good Green Glue Tang Haze Mixed Buds Flower</th>\n",
       "      <td>157.500000</td>\n",
       "      <td>130.000000</td>\n",
       "    </tr>\n",
       "    <tr>\n",
       "      <th>Good Green Sunset Sherbet Popcorn Flower</th>\n",
       "      <td>101.850000</td>\n",
       "      <td>120.000000</td>\n",
       "    </tr>\n",
       "    <tr>\n",
       "      <th>High Supply Apple Fritter Popcorn Flower</th>\n",
       "      <td>254.333333</td>\n",
       "      <td>216.666667</td>\n",
       "    </tr>\n",
       "    <tr>\n",
       "      <th>High Supply Gas Station Sushi Popcorn Flower</th>\n",
       "      <td>173.600000</td>\n",
       "      <td>270.000000</td>\n",
       "    </tr>\n",
       "    <tr>\n",
       "      <th>High Supply Gelato Popcorn</th>\n",
       "      <td>123.200000</td>\n",
       "      <td>220.000000</td>\n",
       "    </tr>\n",
       "    <tr>\n",
       "      <th>High Supply Hybrid Popcorn 28g - Space Daddy</th>\n",
       "      <td>154.000000</td>\n",
       "      <td>250.000000</td>\n",
       "    </tr>\n",
       "    <tr>\n",
       "      <th>High Supply Jealousy Popcorn Flower</th>\n",
       "      <td>127.400000</td>\n",
       "      <td>140.000000</td>\n",
       "    </tr>\n",
       "    <tr>\n",
       "      <th>High Supply Slurricrasher Popcorn Flower</th>\n",
       "      <td>137.200000</td>\n",
       "      <td>250.000000</td>\n",
       "    </tr>\n",
       "    <tr>\n",
       "      <th>Revolution Hawaiian Crown Popcorn Flower</th>\n",
       "      <td>151.200000</td>\n",
       "      <td>170.000000</td>\n",
       "    </tr>\n",
       "    <tr>\n",
       "      <th>Simply Herb Mac 1 Popcorn</th>\n",
       "      <td>114.800000</td>\n",
       "      <td>220.000000</td>\n",
       "    </tr>\n",
       "  </tbody>\n",
       "</table>\n",
       "</div>"
      ],
      "text/plain": [
       "                                                     thc       price\n",
       "name                                                                \n",
       "Cresco Face Mints Popcorn Flower              123.200000  153.333333\n",
       "Cresco Girls best Friend Popcorn Flower       142.800000  270.000000\n",
       "Good Green Glue Tang Haze Mixed Buds Flower   157.500000  130.000000\n",
       "Good Green Sunset Sherbet Popcorn Flower      101.850000  120.000000\n",
       "High Supply Apple Fritter Popcorn Flower      254.333333  216.666667\n",
       "High Supply Gas Station Sushi Popcorn Flower  173.600000  270.000000\n",
       "High Supply Gelato Popcorn                    123.200000  220.000000\n",
       "High Supply Hybrid Popcorn 28g - Space Daddy  154.000000  250.000000\n",
       "High Supply Jealousy Popcorn Flower           127.400000  140.000000\n",
       "High Supply Slurricrasher Popcorn Flower      137.200000  250.000000\n",
       "Revolution Hawaiian Crown Popcorn Flower      151.200000  170.000000\n",
       "Simply Herb Mac 1 Popcorn                     114.800000  220.000000"
      ]
     },
     "execution_count": 195,
     "metadata": {},
     "output_type": "execute_result"
    },
    {
     "data": {
      "image/png": "[encoded data removed]",
      "text/plain": [
       "<Figure size 432x288 with 1 Axes>"
      ]
     },
     "metadata": {
      "needs_background": "light"
     },
     "output_type": "display_data"
    }
   ],
   "source": [
    "#with illinois\n",
    "slice = 100\n",
    "plt.hist(test3[(slice <= test3['thc']) & (test3['thc'] < slice + 200)]['price'])\n",
    "test3[(slice <= test3['thc']) & (test3['thc'] < slice + 200) & (test3['price'] > 100)]\n"
   ]
  },
  {
   "cell_type": "code",
   "execution_count": 212,
   "metadata": {},
   "outputs": [],
   "source": [
    "results = []\n",
    "for state in legalization.index:\n",
    "    data = test.query(f\"category == 'FLOWER' & State == '{state}' & thc < 15000 & price < 500\")[['name', 'thc', 'price']].groupby(\"name\").mean().to_numpy()\n",
    "    data_x = data[:, 0]\n",
    "    data_y = data[:, 1]\n",
    "    model = LinearRegression().fit(data_x.reshape((-1, 1)), data_y)\n",
    "    results.append({\"Number of Data Points\" : data_x.shape[0], \"state\" : state, \"intercept\" : model.intercept_, \"slope\" : model.coef_[0], \"R^2\" : model.score(data_x.reshape((-1, 1)), data_y)})"
   ]
  },
  {
   "cell_type": "code",
   "execution_count": null,
   "metadata": {},
   "outputs": [
    {
     "data": {
      "text/plain": [
       "(array([580.,  18.,  14.,  12.,   2.,   6.,   0.,   3.,   0.,   1.]),\n",
       " array([  4. ,  37.2,  70.4, 103.6, 136.8, 170. , 203.2, 236.4, 269.6,\n",
       "        302.8, 336. ]),\n",
       " <BarContainer object of 10 artists>)"
      ]
     },
     "execution_count": 42,
     "metadata": {},
     "output_type": "execute_result"
    },
    {
     "data": {
      "image/png": "[encoded data removed]",
      "text/plain": [
       "<Figure size 432x288 with 1 Axes>"
      ]
     },
     "metadata": {
      "needs_background": "light"
     },
     "output_type": "display_data"
    }
   ],
   "source": [
    "data = test.query(\"category == 'FLOWER' & State == 'Washington'\")[['thc', 'price']].query(\"200 < thc & thc < 250\").to_numpy()\n",
    "data_x = data[:, 0]\n",
    "data_y = data[:, 1]\n",
    "plt.hist(data_y)"
   ]
  },
  {
   "cell_type": "code",
   "execution_count": 220,
   "metadata": {},
   "outputs": [
    {
     "data": {
      "image/png": "[encoded data removed]",
      "text/plain": [
       "<Figure size 432x288 with 1 Axes>"
      ]
     },
     "metadata": {
      "needs_background": "light"
     },
     "output_type": "display_data"
    },
    {
     "name": "stdout",
     "output_type": "stream",
     "text": [
      "0.3957121087569757\n"
     ]
    }
   ],
   "source": [
    "results_df = pd.DataFrame(results).set_index(\"state\").join(legalization)\n",
    "results_df_tax = results_df.drop(['Alaska', 'Illinois', 'Connecticut', 'New Jersey', 'Maryland'])\n",
    "results_df_tax['tax_rate'] = results_df_tax['tax_rate'].apply(lambda s : float(s[:-1]))\n",
    "\n",
    "data_x = results_df['licensed_sales_since_date'].astype(\"int64\").to_numpy().reshape((-1, 1))\n",
    "model2 = LinearRegression().fit(data_x, results_df['R^2'])\n",
    "plt.scatter(results_df['licensed_sales_since_date'], results_df['R^2'])\n",
    "plt.plot(results_df['licensed_sales_since_date'], model2.predict(data_x), 'r')\n",
    "plt.show()\n",
    "print(model2.score(data_x, results_df['R^2']))"
   ]
  },
  {
   "cell_type": "code",
   "execution_count": 227,
   "metadata": {},
   "outputs": [
    {
     "data": {
      "image/png": "[encoded data removed]",
      "text/plain": [
       "<Figure size 432x288 with 1 Axes>"
      ]
     },
     "metadata": {
      "needs_background": "light"
     },
     "output_type": "display_data"
    },
    {
     "name": "stdout",
     "output_type": "stream",
     "text": [
      "0.17975938282640103\n"
     ]
    }
   ],
   "source": [
    "data_x = results_df_tax['intercept'].astype(\"float64\").to_numpy().reshape((-1, 1))\n",
    "model2 = LinearRegression().fit(data_x, results_df_tax['tax_rate'])\n",
    "plt.scatter(data_x, results_df_tax['tax_rate'])\n",
    "plt.plot(data_x, model2.predict(data_x), 'r')\n",
    "plt.show()\n",
    "print(model2.score(data_x, results_df_tax['tax_rate']))"
   ]
  },
  {
   "cell_type": "code",
   "execution_count": null,
   "metadata": {},
   "outputs": [
    {
     "name": "stderr",
     "output_type": "stream",
     "text": [
      "C:\\Users\\kdugg\\AppData\\Local\\Temp\\ipykernel_9896\\4110388632.py:50: RuntimeWarning: invalid value encountered in true_divide\n",
      "  pi/=np.tile(np.sum(pi,1),(2,1)).T\n"
     ]
    },
    {
     "ename": "ValueError",
     "evalue": "array must not contain infs or NaNs",
     "output_type": "error",
     "traceback": [
      "\u001b[1;31m---------------------------------------------------------------------------\u001b[0m",
      "\u001b[1;31mValueError\u001b[0m                                Traceback (most recent call last)",
      "\u001b[1;32mc:\\Users\\kdugg\\OneDrive\\Documents\\Python Scripts\\eclab\\cleaning\\weedmaps_cleaning.ipynb Cell 27\u001b[0m line \u001b[0;36m<cell line: 86>\u001b[1;34m()\u001b[0m\n\u001b[0;32m     <a href='vscode-notebook-cell:/c%3A/Users/kdugg/OneDrive/Documents/Python%20Scripts/eclab/cleaning/weedmaps_cleaning.ipynb#X32sZmlsZQ%3D%3D?line=81'>82</a>\u001b[0m     \u001b[39mreturn\u001b[39;00m w1,w2\n\u001b[0;32m     <a href='vscode-notebook-cell:/c%3A/Users/kdugg/OneDrive/Documents/Python%20Scripts/eclab/cleaning/weedmaps_cleaning.ipynb#X32sZmlsZQ%3D%3D?line=84'>85</a>\u001b[0m \u001b[39m#run the em algorithm and plot the solution\u001b[39;00m\n\u001b[1;32m---> <a href='vscode-notebook-cell:/c%3A/Users/kdugg/OneDrive/Documents/Python%20Scripts/eclab/cleaning/weedmaps_cleaning.ipynb#X32sZmlsZQ%3D%3D?line=85'>86</a>\u001b[0m rw1,rw2\u001b[39m=\u001b[39mem()\n\u001b[0;32m     <a href='vscode-notebook-cell:/c%3A/Users/kdugg/OneDrive/Documents/Python%20Scripts/eclab/cleaning/weedmaps_cleaning.ipynb#X32sZmlsZQ%3D%3D?line=86'>87</a>\u001b[0m plt\u001b[39m.\u001b[39mplot(r,np\u001b[39m.\u001b[39mdot(rx,rw1),\u001b[39m'\u001b[39m\u001b[39m-r\u001b[39m\u001b[39m'\u001b[39m)\n\u001b[0;32m     <a href='vscode-notebook-cell:/c%3A/Users/kdugg/OneDrive/Documents/Python%20Scripts/eclab/cleaning/weedmaps_cleaning.ipynb#X32sZmlsZQ%3D%3D?line=87'>88</a>\u001b[0m plt\u001b[39m.\u001b[39mplot(r,np\u001b[39m.\u001b[39mdot(rx,rw2),\u001b[39m'\u001b[39m\u001b[39m-g\u001b[39m\u001b[39m'\u001b[39m)\n",
      "\u001b[1;32mc:\\Users\\kdugg\\OneDrive\\Documents\\Python Scripts\\eclab\\cleaning\\weedmaps_cleaning.ipynb Cell 27\u001b[0m line \u001b[0;36mem\u001b[1;34m()\u001b[0m\n\u001b[0;32m     <a href='vscode-notebook-cell:/c%3A/Users/kdugg/OneDrive/Documents/Python%20Scripts/eclab/cleaning/weedmaps_cleaning.ipynb#X32sZmlsZQ%3D%3D?line=57'>58</a>\u001b[0m xp1\u001b[39m=\u001b[39mnp\u001b[39m.\u001b[39mdot(pi1x\u001b[39m.\u001b[39mT,x)\u001b[39m+\u001b[39mnp\u001b[39m.\u001b[39meye(\u001b[39m2\u001b[39m)\u001b[39m*\u001b[39mlam\u001b[39m/\u001b[39meta\n\u001b[0;32m     <a href='vscode-notebook-cell:/c%3A/Users/kdugg/OneDrive/Documents/Python%20Scripts/eclab/cleaning/weedmaps_cleaning.ipynb#X32sZmlsZQ%3D%3D?line=58'>59</a>\u001b[0m yp1\u001b[39m=\u001b[39mnp\u001b[39m.\u001b[39mdot(pi1x\u001b[39m.\u001b[39mT,y)\n\u001b[1;32m---> <a href='vscode-notebook-cell:/c%3A/Users/kdugg/OneDrive/Documents/Python%20Scripts/eclab/cleaning/weedmaps_cleaning.ipynb#X32sZmlsZQ%3D%3D?line=59'>60</a>\u001b[0m w1\u001b[39m=\u001b[39mlin\u001b[39m.\u001b[39;49msolve(xp1,yp1)\n\u001b[0;32m     <a href='vscode-notebook-cell:/c%3A/Users/kdugg/OneDrive/Documents/Python%20Scripts/eclab/cleaning/weedmaps_cleaning.ipynb#X32sZmlsZQ%3D%3D?line=61'>62</a>\u001b[0m pi2x\u001b[39m=\u001b[39mnp\u001b[39m.\u001b[39mtile(pi[:,\u001b[39m1\u001b[39m],(\u001b[39m2\u001b[39m,\u001b[39m1\u001b[39m))\u001b[39m.\u001b[39mT\u001b[39m*\u001b[39mx\n\u001b[0;32m     <a href='vscode-notebook-cell:/c%3A/Users/kdugg/OneDrive/Documents/Python%20Scripts/eclab/cleaning/weedmaps_cleaning.ipynb#X32sZmlsZQ%3D%3D?line=62'>63</a>\u001b[0m xp2\u001b[39m=\u001b[39mnp\u001b[39m.\u001b[39mdot(pi2x\u001b[39m.\u001b[39mT,x)\u001b[39m+\u001b[39mnp\u001b[39m.\u001b[39meye(\u001b[39m2\u001b[39m)\u001b[39m*\u001b[39mlam\u001b[39m/\u001b[39meta\n",
      "File \u001b[1;32mc:\\Users\\kdugg\\anaconda3\\lib\\site-packages\\scipy\\linalg\\basic.py:137\u001b[0m, in \u001b[0;36msolve\u001b[1;34m(a, b, sym_pos, lower, overwrite_a, overwrite_b, debug, check_finite, assume_a, transposed)\u001b[0m\n\u001b[0;32m    134\u001b[0m \u001b[39m# Flags for 1-D or N-D right-hand side\u001b[39;00m\n\u001b[0;32m    135\u001b[0m b_is_1D \u001b[39m=\u001b[39m \u001b[39mFalse\u001b[39;00m\n\u001b[1;32m--> 137\u001b[0m a1 \u001b[39m=\u001b[39m atleast_2d(_asarray_validated(a, check_finite\u001b[39m=\u001b[39;49mcheck_finite))\n\u001b[0;32m    138\u001b[0m b1 \u001b[39m=\u001b[39m atleast_1d(_asarray_validated(b, check_finite\u001b[39m=\u001b[39mcheck_finite))\n\u001b[0;32m    139\u001b[0m n \u001b[39m=\u001b[39m a1\u001b[39m.\u001b[39mshape[\u001b[39m0\u001b[39m]\n",
      "File \u001b[1;32mc:\\Users\\kdugg\\anaconda3\\lib\\site-packages\\scipy\\_lib\\_util.py:293\u001b[0m, in \u001b[0;36m_asarray_validated\u001b[1;34m(a, check_finite, sparse_ok, objects_ok, mask_ok, as_inexact)\u001b[0m\n\u001b[0;32m    291\u001b[0m         \u001b[39mraise\u001b[39;00m \u001b[39mValueError\u001b[39;00m(\u001b[39m'\u001b[39m\u001b[39mmasked arrays are not supported\u001b[39m\u001b[39m'\u001b[39m)\n\u001b[0;32m    292\u001b[0m toarray \u001b[39m=\u001b[39m np\u001b[39m.\u001b[39masarray_chkfinite \u001b[39mif\u001b[39;00m check_finite \u001b[39melse\u001b[39;00m np\u001b[39m.\u001b[39masarray\n\u001b[1;32m--> 293\u001b[0m a \u001b[39m=\u001b[39m toarray(a)\n\u001b[0;32m    294\u001b[0m \u001b[39mif\u001b[39;00m \u001b[39mnot\u001b[39;00m objects_ok:\n\u001b[0;32m    295\u001b[0m     \u001b[39mif\u001b[39;00m a\u001b[39m.\u001b[39mdtype \u001b[39mis\u001b[39;00m np\u001b[39m.\u001b[39mdtype(\u001b[39m'\u001b[39m\u001b[39mO\u001b[39m\u001b[39m'\u001b[39m):\n",
      "File \u001b[1;32mc:\\Users\\kdugg\\anaconda3\\lib\\site-packages\\numpy\\lib\\function_base.py:488\u001b[0m, in \u001b[0;36masarray_chkfinite\u001b[1;34m(a, dtype, order)\u001b[0m\n\u001b[0;32m    486\u001b[0m a \u001b[39m=\u001b[39m asarray(a, dtype\u001b[39m=\u001b[39mdtype, order\u001b[39m=\u001b[39morder)\n\u001b[0;32m    487\u001b[0m \u001b[39mif\u001b[39;00m a\u001b[39m.\u001b[39mdtype\u001b[39m.\u001b[39mchar \u001b[39min\u001b[39;00m typecodes[\u001b[39m'\u001b[39m\u001b[39mAllFloat\u001b[39m\u001b[39m'\u001b[39m] \u001b[39mand\u001b[39;00m \u001b[39mnot\u001b[39;00m np\u001b[39m.\u001b[39misfinite(a)\u001b[39m.\u001b[39mall():\n\u001b[1;32m--> 488\u001b[0m     \u001b[39mraise\u001b[39;00m \u001b[39mValueError\u001b[39;00m(\n\u001b[0;32m    489\u001b[0m         \u001b[39m\"\u001b[39m\u001b[39marray must not contain infs or NaNs\u001b[39m\u001b[39m\"\u001b[39m)\n\u001b[0;32m    490\u001b[0m \u001b[39mreturn\u001b[39;00m a\n",
      "\u001b[1;31mValueError\u001b[0m: array must not contain infs or NaNs"
     ]
    },
    {
     "data": {
      "image/png": "[encoded data removed]",
      "text/plain": [
       "<Figure size 432x288 with 1 Axes>"
      ]
     },
     "metadata": {
      "needs_background": "light"
     },
     "output_type": "display_data"
    }
   ],
   "source": [
    "import numpy as np\n",
    "import scipy.linalg as lin\n",
    "\n",
    "test2 = test.query(f\"category == 'FLOWER' & State == 'Washington' & thc > 0\")\n",
    "data = test2[['thc', 'price']].query(\"thc < 28000\").to_numpy()\n",
    "data_x = data[:, 0]\n",
    "data_y = data[:, 1]\n",
    "N = len(data_x)\n",
    "x = np.concatenate((data_x.reshape((N, 1)), np.ones((N, 1))), axis = 1)\n",
    "y = data_y\n",
    "\n",
    "rx=np.ones( (100,2) )\n",
    "r=np.arange(0,1,.01)\n",
    "rx[:,0]=r\n",
    "\n",
    "#plot the random dataset\n",
    "plt.scatter(data_x, data_y)\n",
    "\n",
    "# regularization parameter for the regression weights\n",
    "lam=.01\n",
    "\n",
    "def em():\n",
    "    # mixture weights\n",
    "    rpi=np.zeros( (2) )+.5\n",
    "\n",
    "    # expected mixture weights for each data point\n",
    "    pi=np.zeros( (len(x),2) )+.5\n",
    "\n",
    "    #the regression weights\n",
    "    w1=np.random.rand(2)\n",
    "    w2=np.random.rand(2)\n",
    "\n",
    "    #precision term for the probability of the data under the regression function \n",
    "    eta=100\n",
    "\n",
    "    for _ in range(100):\n",
    "        if 0:\n",
    "            plt.plot(r,np.dot(rx,w1),'-r',alpha=.5)\n",
    "            plt.plot(r,np.dot(rx,w2),'-g',alpha=.5)\n",
    "\n",
    "        #compute lhood for each data point\n",
    "        err1=y-np.dot(x,w1)\n",
    "        err2=y-np.dot(x,w2)\n",
    "        prbs=np.zeros( (len(y),2) )\n",
    "        prbs[:,0]=-.5*eta*err1**2\n",
    "        prbs[:,1]=-.5*eta*err2**2\n",
    "\n",
    "        #compute expected mixture weights\n",
    "        pi=np.tile(rpi,(len(x),1))*np.exp(prbs)\n",
    "        pi/=np.tile(np.sum(pi,1),(2,1)).T\n",
    "\n",
    "        #max with respect to the mixture probabilities\n",
    "        rpi=np.sum(pi,0)\n",
    "        rpi/=np.sum(rpi)\n",
    "\n",
    "        #max with respect to the regression weights\n",
    "        pi1x=np.tile(pi[:,0],(2,1)).T*x\n",
    "        xp1=np.dot(pi1x.T,x)+np.eye(2)*lam/eta\n",
    "        yp1=np.dot(pi1x.T,y)\n",
    "        w1=lin.solve(xp1,yp1)\n",
    "\n",
    "        pi2x=np.tile(pi[:,1],(2,1)).T*x\n",
    "        xp2=np.dot(pi2x.T,x)+np.eye(2)*lam/eta\n",
    "        yp2=np.dot(pi[:,1]*y,x)\n",
    "        w2=lin.solve(xp2,yp2)\n",
    "\n",
    "        #max wrt the precision term\n",
    "        eta=np.sum(pi)/np.sum(-prbs/eta*pi)\n",
    "\n",
    "        #objective function - unstable as the pi's become concentrated on a single component\n",
    "        obj=np.sum(prbs*pi)-np.sum(pi[pi>1e-50]*np.log(pi[pi>1e-50]))+np.sum(pi*np.log(np.tile(rpi,(len(x),1))))+np.log(eta)*np.sum(pi)\n",
    "        print (obj,eta,rpi,w1,w2)\n",
    "\n",
    "        try:\n",
    "            if np.isnan(obj): break\n",
    "            if np.abs(obj-oldobj)<1e-2: break\n",
    "        except:\n",
    "            pass\n",
    "\n",
    "        oldobj=obj\n",
    "\n",
    "    return w1,w2\n",
    "\n",
    "\n",
    "#run the em algorithm and plot the solution\n",
    "rw1,rw2=em()\n",
    "plt.plot(r,np.dot(rx,rw1),'-r')\n",
    "plt.plot(r,np.dot(rx,rw2),'-g')\n",
    "\n",
    "plt.show()"
   ]
  }
 ],
 "metadata": {
  "kernelspec": {
   "display_name": "base",
   "language": "python",
   "name": "python3"
  },
  "language_info": {
   "codemirror_mode": {
    "name": "ipython",
    "version": 3
   },
   "file_extension": ".py",
   "mimetype": "text/x-python",
   "name": "python",
   "nbconvert_exporter": "python",
   "pygments_lexer": "ipython3",
   "version": "3.9.12"
  }
 },
 "nbformat": 4,
 "nbformat_minor": 2
}
