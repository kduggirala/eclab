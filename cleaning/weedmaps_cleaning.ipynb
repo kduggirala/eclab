{
 "cells": [
  {
   "cell_type": "code",
   "execution_count": null,
   "metadata": {},
   "outputs": [],
   "source": [
    "# WEEDMAPS DATA CLEANING: BUSINESS-LEVEL DATA\n",
    "# - create indicators for whether we have medical / recreational license info\n",
    "# - create indicators for descriptors (e.g. in-store purchases only, order online, medical and recreational etc)\n",
    "# - create variable for state that dispensary is located in\n",
    "# - split license variable into medical and recreational licenses (INCOMPLETE)\n",
    "\n",
    "\n",
    "# Imports\n",
    "import pandas as pd\n",
    "import os\n",
    "import re\n",
    "from pyzipcode import ZipCodeDatabase\n"
   ]
  },
  {
   "cell_type": "code",
   "execution_count": null,
   "metadata": {},
   "outputs": [],
   "source": [
    "zcdb = ZipCodeDatabase()"
   ]
  },
  {
   "cell_type": "code",
   "execution_count": null,
   "metadata": {},
   "outputs": [],
   "source": [
    "# Import business-level data\n",
    "df = pd.read_csv(\"../stores_data.csv\")"
   ]
  },
  {
   "cell_type": "markdown",
   "metadata": {},
   "source": [
    "Create indicators for medical / recreational license\n"
   ]
  },
  {
   "cell_type": "code",
   "execution_count": null,
   "metadata": {},
   "outputs": [],
   "source": [
    "cats = [\"Medical\", \"Adult-Use\"]\n",
    "for cat in cats:\n",
    "    df[cat + \"_ID?\"] = df[\"Licenses\"].str.contains(cat, case = False).astype(float)"
   ]
  },
  {
   "cell_type": "markdown",
   "metadata": {},
   "source": [
    "Create indicator variables based on descriptors"
   ]
  },
  {
   "cell_type": "code",
   "execution_count": null,
   "metadata": {},
   "outputs": [],
   "source": [
    "df2 = df.copy()\n",
    "df2[\"Descriptors\"] = df2.apply(lambda row : \"|\".join([x.strip() for x in row[\"Descriptors\"].split(\"|\")]),\n",
    "                             axis = 1)"
   ]
  },
  {
   "cell_type": "code",
   "execution_count": null,
   "metadata": {},
   "outputs": [],
   "source": [
    "df_desc2 = df2.Descriptors.str.get_dummies()"
   ]
  },
  {
   "cell_type": "code",
   "execution_count": null,
   "metadata": {},
   "outputs": [],
   "source": [
    "df3 = df2.join(df_desc2)"
   ]
  },
  {
   "cell_type": "markdown",
   "metadata": {},
   "source": [
    "Create state variable"
   ]
  },
  {
   "cell_type": "code",
   "execution_count": null,
   "metadata": {},
   "outputs": [],
   "source": [
    "states =[\"Alabama\", \"Alaska\", \"Arizona\", \"Arkansas\", \"California\", \n",
    "             \"Colorado\", \"Connecticut\", \"Delaware\", \"Florida\", \"Georgia\", \n",
    "             \"Hawaii\", \"Idaho\", \"Illinois\", \"Indiana\", \"Iowa\", \n",
    "             \"Kansas\", \"Kentucky\", \"Louisiana\", \"Maine\", \"Maryland\", \n",
    "             \"Massachusetts\", \"Michigan\", \"Minnesota\", \"Mississippi\", \"Missouri\", \n",
    "             \"Montana\", \"Nebraska\", \"Nevada\", \"New Hampshire\", \"New Jersey\", \n",
    "             \"New Mexico\", \"New York\", \"North Carolina\", \"North Dakota\", \"Ohio\", \n",
    "             \"Oklahoma\", \"Oregon\", \"Pennsylvania\", \"Rhode Island\", \"South Carolina\", \n",
    "             \"South Dakota\", \"Tennessee\", \"Texas\", \"Utah\", \"Vermont\", \n",
    "             \"Virginia\", \"Washington\", \"West Virginia\", \"Wisconsin\", \"Wyoming\"]\n",
    "\n",
    "# function to check which state a dispensary is in\n",
    "def get_state(col_val):\n",
    "    lst = []\n",
    "    for state in states:\n",
    "        st = state.lower() + \" \"\n",
    "        if st in col_val.lower():\n",
    "            lst.append(state)\n",
    "    if len(lst) == 1:\n",
    "        return [lst[0]]\n",
    "    elif len(lst) > 1:\n",
    "        # need to change this to check by zipcode\n",
    "        return [x for x in lst]"
   ]
  },
  {
   "cell_type": "code",
   "execution_count": null,
   "metadata": {},
   "outputs": [],
   "source": [
    "# applying function to dataframe\n",
    "df4 = df3.copy()\n",
    "df4[\"State\"] = df4.apply(lambda row : get_state(row[\"Address\"]),\n",
    "                             axis = 1)"
   ]
  },
  {
   "cell_type": "code",
   "execution_count": null,
   "metadata": {},
   "outputs": [],
   "source": [
    "# businesses with 2 potential state names in their address (currently 167)\n",
    "dftest = df4[~df4.State.isna()]\n",
    "df_amb = dftest[dftest.State.map(len) > 1]\n",
    "len(df_amb)"
   ]
  },
  {
   "cell_type": "code",
   "execution_count": null,
   "metadata": {},
   "outputs": [],
   "source": [
    "# businesses which are likely not based in any of the 50 US states (currently 1480)\n",
    "df_no_state = df4[df4[\"State\"].isna()]\n",
    "len(df_no_state)"
   ]
  },
  {
   "cell_type": "code",
   "execution_count": null,
   "metadata": {},
   "outputs": [],
   "source": [
    "# testing\n",
    "test = df.Descriptors[0]\n",
    "test2 = df2.Descriptors[0]\n",
    "test2\n",
    "test"
   ]
  },
  {
   "cell_type": "code",
   "execution_count": null,
   "metadata": {},
   "outputs": [],
   "source": [
    "test = df.Address[0]\n",
    "test"
   ]
  },
  {
   "cell_type": "code",
   "execution_count": null,
   "metadata": {},
   "outputs": [],
   "source": [
    "# CREATE INDICATORS BASED ON DESCRIPTORS\n",
    "# from sklearn.feature_extraction.text import CountVectorizer\n",
    "\n",
    "# cv = CountVectorizer()\n",
    "\n",
    "# df_desc = pd.DataFrame(cv.fit_transform(df.Descriptors.fillna('').str.replace(r\"\\|\", \" \")).A,\n",
    "#                        columns=cv.get_feature_names_out(),\n",
    "#                        index = df.index)"
   ]
  },
  {
   "cell_type": "code",
   "execution_count": null,
   "metadata": {},
   "outputs": [],
   "source": [
    "# df4[df4[\"State\"].isna() & ~df4[\"Address\"].str.contains(\"ON \")]\n",
    "# df4[df4[\"Address\"].str.contains(\"ON \")]"
   ]
  }
 ],
 "metadata": {
  "kernelspec": {
   "display_name": "base",
   "language": "python",
   "name": "python3"
  },
  "language_info": {
   "codemirror_mode": {
    "name": "ipython",
    "version": 3
   },
   "file_extension": ".py",
   "mimetype": "text/x-python",
   "name": "python",
   "nbconvert_exporter": "python",
   "pygments_lexer": "ipython3",
   "version": "3.11.6"
  }
 },
 "nbformat": 4,
 "nbformat_minor": 2
}
