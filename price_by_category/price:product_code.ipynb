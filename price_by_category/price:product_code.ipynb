{
 "cells": [
  {
   "cell_type": "code",
   "execution_count": 1,
   "id": "f04921ed",
   "metadata": {},
   "outputs": [],
   "source": [
    "import pandas as pd\n",
    "import matplotlib.pyplot as plt"
   ]
  },
  {
   "cell_type": "code",
   "execution_count": 2,
   "id": "e5ae1d1b",
   "metadata": {},
   "outputs": [],
   "source": [
    "df1 = pd.read_csv(\"part_1.csv\")\n",
    "df2 = pd.read_csv(\"part_2.csv\")\n",
    "df3 = pd.read_csv(\"part_3.csv\")\n",
    "df4 = pd.read_csv(\"part_4.csv\")\n",
    "df5 = pd.read_csv(\"part_5.csv\")\n",
    "df6 = pd.read_csv(\"part_6.csv\")\n",
    "df7 = pd.read_csv(\"part_7.csv\")\n",
    "df8 = pd.read_csv(\"part_8.csv\")\n",
    "df9 = pd.read_csv(\"part_9.csv\")\n",
    "df10 = pd.read_csv(\"part_10.csv\")"
   ]
  },
  {
   "cell_type": "code",
   "execution_count": 9,
   "id": "3244c6df",
   "metadata": {},
   "outputs": [],
   "source": [
    "df = pd.concat([df1, df2, df3, df4, df5, df6, df7, df8, df9, df10]).reset_index(drop=True)"
   ]
  },
  {
   "cell_type": "code",
   "execution_count": 10,
   "id": "74f96ce1",
   "metadata": {},
   "outputs": [
    {
     "data": {
      "text/plain": [
       "Index(['category', 'name', 'thc', 'cbd', 'price', 'weight', 'url',\n",
       "       'Store Name', 'Number Reviews', 'Avg Rating', 'Phone Number',\n",
       "       'Licenses', 'Address', 'Medical_ID?', 'Adult-Use_ID?', 'Dispensary',\n",
       "       'In-store purchases only', 'Order online',\n",
       "       'Supports the Black community', 'State', 'Medical Store?',\n",
       "       'Recreational Store?'],\n",
       "      dtype='object')"
      ]
     },
     "execution_count": 10,
     "metadata": {},
     "output_type": "execute_result"
    }
   ],
   "source": [
    "df.columns"
   ]
  },
  {
   "cell_type": "code",
   "execution_count": 11,
   "id": "c4e6ea67",
   "metadata": {},
   "outputs": [],
   "source": [
    "products = list(df.groupby('category').count().name.sort_values()[-10:].index)[::-1]"
   ]
  },
  {
   "cell_type": "code",
   "execution_count": 49,
   "id": "dcaeb999",
   "metadata": {},
   "outputs": [
    {
     "data": {
      "text/plain": [
       "category\n",
       "INFUSED PRE ROLL     54515\n",
       "DISPOSABLE           57565\n",
       "GEAR                 70156\n",
       "ACCESSORIES          91341\n",
       "GUMMIES             120925\n",
       "EDIBLES             151190\n",
       "PRE ROLL            158899\n",
       "CARTRIDGE           166093\n",
       "CONCENTRATES        192001\n",
       "FLOWER              317121\n",
       "Name: name, dtype: int64"
      ]
     },
     "execution_count": 49,
     "metadata": {},
     "output_type": "execute_result"
    }
   ],
   "source": [
    "df.groupby('category').count().name.sort_values()[-10:]"
   ]
  },
  {
   "cell_type": "code",
   "execution_count": 12,
   "id": "2883907f",
   "metadata": {},
   "outputs": [],
   "source": [
    "rating_by_category = {}\n",
    "for product in products:\n",
    "    rating = round(df.query('category == @product')['Avg Rating'].mean(), 2)\n",
    "    rating_by_category.update({product: rating})"
   ]
  },
  {
   "cell_type": "code",
   "execution_count": 13,
   "id": "48218308",
   "metadata": {},
   "outputs": [
    {
     "data": {
      "text/plain": [
       "<BarContainer object of 10 artists>"
      ]
     },
     "execution_count": 13,
     "metadata": {},
     "output_type": "execute_result"
    },
    {
     "data": {
      "image/png": "[encoded data removed]",
      "text/plain": [
       "<Figure size 432x288 with 1 Axes>"
      ]
     },
     "metadata": {
      "needs_background": "light"
     },
     "output_type": "display_data"
    }
   ],
   "source": [
    "plt.bar(rating_by_category.keys(), rating_by_category.values())"
   ]
  },
  {
   "cell_type": "code",
   "execution_count": 50,
   "id": "0559b125",
   "metadata": {},
   "outputs": [],
   "source": [
    "df_price = df.query(\"price != 'None'\")"
   ]
  },
  {
   "cell_type": "code",
   "execution_count": 51,
   "id": "7f1d45ab",
   "metadata": {},
   "outputs": [
    {
     "name": "stderr",
     "output_type": "stream",
     "text": [
      "/var/folders/wv/4b7pf7vs3bjf2k7h3lnp4f600000gn/T/ipykernel_6544/2830272342.py:1: SettingWithCopyWarning: \n",
      "A value is trying to be set on a copy of a slice from a DataFrame.\n",
      "Try using .loc[row_indexer,col_indexer] = value instead\n",
      "\n",
      "See the caveats in the documentation: https://pandas.pydata.org/pandas-docs/stable/user_guide/indexing.html#returning-a-view-versus-a-copy\n",
      "  df_price['price'] = df_price.price.apply(lambda x: float(x.strip(\"$\")))\n"
     ]
    }
   ],
   "source": [
    "df_price['price'] = df_price.price.apply(lambda x: float(x.strip(\"$\")))"
   ]
  },
  {
   "cell_type": "code",
   "execution_count": 52,
   "id": "1cd12779",
   "metadata": {},
   "outputs": [],
   "source": [
    "price_by_category = {}\n",
    "price=0\n",
    "for product in products:\n",
    "    price = round(df_price.query('category == @product')['price'].mean(), 2)\n",
    "    price_by_category.update({product: price})"
   ]
  },
  {
   "cell_type": "code",
   "execution_count": 53,
   "id": "a359923b",
   "metadata": {},
   "outputs": [
    {
     "data": {
      "text/plain": [
       "<BarContainer object of 10 artists>"
      ]
     },
     "execution_count": 53,
     "metadata": {},
     "output_type": "execute_result"
    },
    {
     "data": {
      "image/png": "[encoded data removed]",
      "text/plain": [
       "<Figure size 432x288 with 1 Axes>"
      ]
     },
     "metadata": {
      "needs_background": "light"
     },
     "output_type": "display_data"
    }
   ],
   "source": [
    "plt.bar(price_by_category.keys(), price_by_category.values())"
   ]
  },
  {
   "cell_type": "code",
   "execution_count": 59,
   "id": "f74115b8",
   "metadata": {},
   "outputs": [],
   "source": [
    "flower = df_price.query('category == \"FLOWER\"')\n",
    "price_flower_st = pd.DataFrame(flower.groupby('State').price.mean())\n",
    "\n",
    "concentrate = df_price.query('category == \"CONCENTRATES\"')\n",
    "price_concentrate_st = pd.DataFrame(concentrate.groupby('State').price.mean())\n",
    "\n",
    "cartridge = df_price.query('category == \"CARTRIDGE\"')\n",
    "price_cartridge_st = pd.DataFrame(cartridge.groupby('State').price.mean())\n",
    "\n",
    "preroll = df_price.query('category == \"PRE ROLL\"')\n",
    "price_preroll_st = pd.DataFrame(preroll.groupby('State').price.mean())\n",
    "\n",
    "edibles = df_price.query('category == \"EDIBLES\"')\n",
    "price_edibles_st = pd.DataFrame(edibles.groupby('State').price.mean())\n",
    "\n",
    "gummies = df_price.query('category == \"GUMMIES\"')\n",
    "price_gummies_st = pd.DataFrame(gummies.groupby('State').price.mean())"
   ]
  },
  {
   "cell_type": "code",
   "execution_count": 67,
   "id": "51ad6379",
   "metadata": {},
   "outputs": [],
   "source": [
    "price_flower_st.to_csv('price_flower_by_state.csv')\n",
    "price_concentrate_st.to_csv('price_concentrate_by_state.csv')\n",
    "price_cartridge_st.to_csv('price_cartridge_by_state.csv')\n",
    "price_preroll_st.to_csv('price_preroll_by_state.csv')\n",
    "price_edibles_st.to_csv('price_edibles_by_state.csv')\n",
    "price_gummies_st.to_csv('price_gummies_by_state.csv')"
   ]
  }
 ],
 "metadata": {
  "kernelspec": {
   "display_name": "Python 3 (ipykernel)",
   "language": "python",
   "name": "python3"
  },
  "language_info": {
   "codemirror_mode": {
    "name": "ipython",
    "version": 3
   },
   "file_extension": ".py",
   "mimetype": "text/x-python",
   "name": "python",
   "nbconvert_exporter": "python",
   "pygments_lexer": "ipython3",
   "version": "3.9.7"
  }
 },
 "nbformat": 4,
 "nbformat_minor": 5
}
